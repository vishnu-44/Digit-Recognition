{
  "nbformat": 4,
  "nbformat_minor": 0,
  "metadata": {
    "colab": {
      "name": "Digit recognition.ipynb",
      "provenance": []
    },
    "kernelspec": {
      "name": "python3",
      "display_name": "Python 3"
    },
    "language_info": {
      "name": "python"
    }
  },
  "cells": [
    {
      "cell_type": "code",
      "metadata": {
        "id": "QKuWjMi20S4V"
      },
      "source": [
        "import tensorflow as tf\n",
        "import numpy as np\n",
        "import matplotlib.pyplot as plt\n",
        "import cv2\n",
        "import os"
      ],
      "execution_count": 1,
      "outputs": []
    },
    {
      "cell_type": "code",
      "metadata": {
        "colab": {
          "base_uri": "https://localhost:8080/"
        },
        "id": "ceIs0P_J1ZeM",
        "outputId": "457a496d-6e5e-401c-e1f3-dff9faaeee84"
      },
      "source": [
        "mnist = tf.keras.datasets.mnist\n",
        "(train1, train2), (test1 , test2) = mnist.load_data()\n",
        "train1 = tf.keras.utils.normalize(train1, axis=1)\n",
        "test1 = tf.keras.utils.normalize(test1, axis=1)\n",
        "model = tf.keras.models.Sequential()\n",
        "model.add(tf.keras.layers.Flatten(input_shape=(28,28)))\n",
        "model.add(tf.keras.layers.Dense(128, activation=\"relu\"))\n",
        "model.add(tf.keras.layers.Dense(128, activation=\"relu\"))\n",
        "model.add(tf.keras.layers.Dense(10, activation=\"softmax\"))\n",
        "model.compile(optimizer='adam' , loss='sparse_categorical_crossentropy', metrics=['accuracy'])\n",
        "model.fit(train1, train2, epochs=11)\n",
        "model.save('hdm')"
      ],
      "execution_count": 4,
      "outputs": [
        {
          "output_type": "stream",
          "name": "stdout",
          "text": [
            "Epoch 1/11\n",
            "1875/1875 [==============================] - 5s 2ms/step - loss: 0.2556 - accuracy: 0.9261\n",
            "Epoch 2/11\n",
            "1875/1875 [==============================] - 4s 2ms/step - loss: 0.1014 - accuracy: 0.9692\n",
            "Epoch 3/11\n",
            "1875/1875 [==============================] - 4s 2ms/step - loss: 0.0707 - accuracy: 0.9776\n",
            "Epoch 4/11\n",
            "1875/1875 [==============================] - 4s 2ms/step - loss: 0.0508 - accuracy: 0.9839\n",
            "Epoch 5/11\n",
            "1875/1875 [==============================] - 4s 2ms/step - loss: 0.0398 - accuracy: 0.9870\n",
            "Epoch 6/11\n",
            "1875/1875 [==============================] - 4s 2ms/step - loss: 0.0310 - accuracy: 0.9893\n",
            "Epoch 7/11\n",
            "1875/1875 [==============================] - 4s 2ms/step - loss: 0.0251 - accuracy: 0.9920\n",
            "Epoch 8/11\n",
            "1875/1875 [==============================] - 4s 2ms/step - loss: 0.0208 - accuracy: 0.9928\n",
            "Epoch 9/11\n",
            "1875/1875 [==============================] - 4s 2ms/step - loss: 0.0172 - accuracy: 0.9940\n",
            "Epoch 10/11\n",
            "1875/1875 [==============================] - 4s 2ms/step - loss: 0.0149 - accuracy: 0.9950\n",
            "Epoch 11/11\n",
            "1875/1875 [==============================] - 4s 2ms/step - loss: 0.0134 - accuracy: 0.9954\n",
            "INFO:tensorflow:Assets written to: hdm/assets\n"
          ]
        }
      ]
    },
    {
      "cell_type": "code",
      "metadata": {
        "colab": {
          "base_uri": "https://localhost:8080/"
        },
        "id": "ekJUPlWY-Epp",
        "outputId": "e7ac366d-735e-4104-ce9e-280e0187bb24"
      },
      "source": [
        "model = tf.keras.models.load_model('hdm')\n",
        "\n",
        "while os.path.isfile(f\"number.png\"):\n",
        "    img=cv2.imread(f\"number.png\")[:,:,0]\n",
        "    img=np.invert(np.array([img]))\n",
        "    predict=model.predict(img)\n",
        "    print(f\"digit is {np.argmax(predict)}\")\n",
        "    break"
      ],
      "execution_count": 6,
      "outputs": [
        {
          "output_type": "stream",
          "name": "stdout",
          "text": [
            "digit is 3\n"
          ]
        }
      ]
    }
  ]
}